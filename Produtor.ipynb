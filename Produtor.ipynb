{
  "nbformat": 4,
  "nbformat_minor": 0,
  "metadata": {
    "colab": {
      "provenance": [],
      "authorship_tag": "ABX9TyNwiEugc7YxbYvasvlfw6yZ",
      "include_colab_link": true
    },
    "kernelspec": {
      "name": "python3",
      "display_name": "Python 3"
    },
    "language_info": {
      "name": "python"
    }
  },
  "cells": [
    {
      "cell_type": "markdown",
      "metadata": {
        "id": "view-in-github",
        "colab_type": "text"
      },
      "source": [
        "<a href=\"https://colab.research.google.com/github/flipfelly/Streaming-com-Kinesis/blob/main/Produtor.ipynb\" target=\"_parent\"><img src=\"https://colab.research.google.com/assets/colab-badge.svg\" alt=\"Open In Colab\"/></a>"
      ]
    },
    {
      "cell_type": "markdown",
      "source": [
        "# Aplicações em Streaming com AWS Kinesis\n",
        "\n",
        "Este código utiliza a biblioteca **boto3** para interagir com o serviço **Amazon Kinesis**, da AWS, que permite coletar, processar e analisar dados em tempo real. Inicialmente, é criado um cliente Kinesis com as credenciais de acesso e a região especificadas. Em seguida, é definido um registro de dados no formato de dicionário Python, contendo informações de um vendedor, como o **ID** e o **nome**.\n",
        "\n",
        "Kinesis não é um serviço gratuito então podem haver crobanças.\n",
        "\n",
        "---\n",
        "\n",
        "## Requisitos\n",
        "- Conta AWS configurada.\n",
        "- Um fluxo de dados criado no **Kinesis**.\n",
        "\n",
        "---\n",
        "\n",
        "## Como criar um fluxo de dados no Kinesis:\n",
        "1. Na tela inicial da AWS, pesquise por **Kinesis** e acesse sua página.\n",
        "2. Certifique-se de ter a opção **Kinesis Data Streams** selecionada.\n",
        "3. Clique em **Criar fluxo de dados**.\n",
        "4. Nomeie seu fluxo de dados (este nome será utilizado no código).\n",
        "5. Em **Modo de capacidade**, selecione **Sob demanda** (a AWS ajustará automaticamente as necessidades).\n",
        "6. Clique em **Criar fluxo de dados**.\n",
        "\n",
        "---\n",
        "\n",
        "## Como encontrar a `region_name`:\n",
        "1. Clique no nome do fluxo de dados recém-criado na página do **Kinesis**.\n",
        "2. Em **Resumo do fluxo de dados**, localize o **ARN**.  \n",
        "   Você encontrará algo como:  \n",
        "   arn:aws:kinesis:`us-east-1`:356397688932:stream/stream1.  \n",
        "3. Copie apenas a parte destacada, como **us-east-1**.\n",
        "   > **Atenção:** O código varia de acordo com a região onde o fluxo foi criado. Não utilize o código do exemplo.\n",
        "\n",
        "---\n",
        "\n",
        "## Como encontrar o `StreamName`:\n",
        "1. O **StreamName** é o nome que você deu ao criar o fluxo de dados.  \n",
        "   Caso tenha esquecido, siga os passos abaixo:\n",
        "2. Na página do **Kinesis**, acesse **Streams de dados**.\n",
        "3. Copie o nome do fluxo criado.\n",
        "\n",
        "---\n",
        "## Como obter suas `credenciais AWS` (aws_access_key_id e aws_secret_access_key):\n",
        "1. No canto superior direito da tela, encontre o **nome do usuário**.  \n",
        "2. Clique na **setinha** ao lado do nome.  \n",
        "3. Selecione **Credenciais de Segurança**.  \n",
        "4. Localize a seção **Chaves de Acesso**.  \n",
        "5. Crie uma nova chave de acesso.  \n",
        "6. Salve o arquivo com a chave ou copie as informações (id e chave).\n",
        "\n",
        "⚠️ **Atenção**: Você só poderá visualizar a chave de acesso no momento da criação, tendo acesso somente ao ID. Guarde-a em local seguro!\n",
        "\n"
      ],
      "metadata": {
        "id": "C1aW92GEcZ24"
      }
    },
    {
      "cell_type": "code",
      "source": [
        "!pip install boto3"
      ],
      "metadata": {
        "colab": {
          "base_uri": "https://localhost:8080/"
        },
        "collapsed": true,
        "id": "58f5KKhNWL-t",
        "outputId": "fa297988-2658-4eb3-c26b-9df846f634a2"
      },
      "execution_count": 1,
      "outputs": [
        {
          "output_type": "stream",
          "name": "stdout",
          "text": [
            "Collecting boto3\n",
            "  Downloading boto3-1.36.1-py3-none-any.whl.metadata (6.6 kB)\n",
            "Collecting botocore<1.37.0,>=1.36.1 (from boto3)\n",
            "  Downloading botocore-1.36.1-py3-none-any.whl.metadata (5.7 kB)\n",
            "Collecting jmespath<2.0.0,>=0.7.1 (from boto3)\n",
            "  Downloading jmespath-1.0.1-py3-none-any.whl.metadata (7.6 kB)\n",
            "Collecting s3transfer<0.12.0,>=0.11.0 (from boto3)\n",
            "  Downloading s3transfer-0.11.1-py3-none-any.whl.metadata (1.7 kB)\n",
            "Requirement already satisfied: python-dateutil<3.0.0,>=2.1 in /usr/local/lib/python3.11/dist-packages (from botocore<1.37.0,>=1.36.1->boto3) (2.8.2)\n",
            "Requirement already satisfied: urllib3!=2.2.0,<3,>=1.25.4 in /usr/local/lib/python3.11/dist-packages (from botocore<1.37.0,>=1.36.1->boto3) (2.3.0)\n",
            "Requirement already satisfied: six>=1.5 in /usr/local/lib/python3.11/dist-packages (from python-dateutil<3.0.0,>=2.1->botocore<1.37.0,>=1.36.1->boto3) (1.17.0)\n",
            "Downloading boto3-1.36.1-py3-none-any.whl (139 kB)\n",
            "\u001b[2K   \u001b[90m━━━━━━━━━━━━━━━━━━━━━━━━━━━━━━━━━━━━━━━━\u001b[0m \u001b[32m139.2/139.2 kB\u001b[0m \u001b[31m3.0 MB/s\u001b[0m eta \u001b[36m0:00:00\u001b[0m\n",
            "\u001b[?25hDownloading botocore-1.36.1-py3-none-any.whl (13.3 MB)\n",
            "\u001b[2K   \u001b[90m━━━━━━━━━━━━━━━━━━━━━━━━━━━━━━━━━━━━━━━━\u001b[0m \u001b[32m13.3/13.3 MB\u001b[0m \u001b[31m55.4 MB/s\u001b[0m eta \u001b[36m0:00:00\u001b[0m\n",
            "\u001b[?25hDownloading jmespath-1.0.1-py3-none-any.whl (20 kB)\n",
            "Downloading s3transfer-0.11.1-py3-none-any.whl (84 kB)\n",
            "\u001b[2K   \u001b[90m━━━━━━━━━━━━━━━━━━━━━━━━━━━━━━━━━━━━━━━━\u001b[0m \u001b[32m84.1/84.1 kB\u001b[0m \u001b[31m5.7 MB/s\u001b[0m eta \u001b[36m0:00:00\u001b[0m\n",
            "\u001b[?25hInstalling collected packages: jmespath, botocore, s3transfer, boto3\n",
            "Successfully installed boto3-1.36.1 botocore-1.36.1 jmespath-1.0.1 s3transfer-0.11.1\n"
          ]
        }
      ]
    },
    {
      "cell_type": "markdown",
      "source": [
        "# Explicação das Variáveis `cliente` e `resposta`\n",
        "\n",
        "## Variável `cliente`\n",
        "A variável **`cliente`** é uma instância do cliente AWS Kinesis criada pelo **boto3**. Essa variável é utilizada para interagir com o serviço de streaming de dados oferecido pela Amazon.\n",
        "\n",
        "### Componentes:\n",
        "1. **`boto3.client('kinesis')`**:\n",
        "   - Cria um cliente para o serviço **Amazon Kinesis**.\n",
        "\n",
        "2. **`aws_access_key_id` e `aws_secret_access_key`**:\n",
        "   - Credenciais que autenticam o acesso à conta AWS, permitindo ao cliente executar operações no Kinesis.\n",
        "   - **Atenção**: Essas credenciais são sensíveis e devem ser protegidas para evitar acesso não autorizado.\n",
        "\n",
        "3. **`region_name`**:\n",
        "   - Especifica a região onde o fluxo de dados do Kinesis foi configurado (exemplo: **`us-east-1`**).\n",
        "\n",
        "---\n",
        "\n",
        "## Variável `resposta`\n",
        "\n",
        "\n",
        "### Uso do `.json` e `PartitionKey`\n",
        "- O **`.json`** é utilizado para converter objetos Python em um formato compatível com o Kinesis, garantindo que os dados sejam enviados de maneira estruturada e legível.\n",
        "  \n",
        "- A **`PartitionKey`** é usada para distribuir os dados entre shards no fluxo, aplicando uma função de hash. No nosso caso, em um único shard, não faça diferença, ela é fundamental para equilibrar a carga entre múltiplos shards.\n",
        "\n",
        "### **`ShardId`**\n",
        "- **`ShardId`** identifica o **shard** (subdivisão do fluxo de dados) onde o registro foi armazenado. Shards são responsáveis por particionar os dados dentro do fluxo. ESSE REGISTRO SERÁ UTILIZADO NO NOTEBOOK CONSUMIDOR\n",
        "\n"
      ],
      "metadata": {
        "id": "_rZ54QFUkcHB"
      }
    },
    {
      "cell_type": "code",
      "source": [
        "import boto3\n",
        "import json\n",
        "\n",
        "cliente = boto3.client('kinesis', aws_access_key_id = 'id da chave de acesso', aws_secret_access_key = \"chave de acesso\", region_name='us-east-1')\n",
        "\n",
        "registro = {'idvendedor': '231', 'nome':'Pedro'} #dado a ser registrado\n",
        "\n",
        "resposta = cliente.put_record(StreamName='nome do stream criado', Data=json.dumps(registro), PartitionKey='02') #PartitionKey qualquer pois não influencia na realidade que estamos aplicando\n",
        "\n",
        "print(resposta)"
      ],
      "metadata": {
        "colab": {
          "base_uri": "https://localhost:8080/"
        },
        "id": "pdTNv9svWN6f",
        "outputId": "7cbb261b-c6b3-496e-9946-f6251f21ae0d"
      },
      "execution_count": 10,
      "outputs": [
        {
          "output_type": "stream",
          "name": "stdout",
          "text": [
            "{'ShardId': 'shardId-000000000002', 'SequenceNumber': '49659682377937857660418786304854671273638241077525741602', 'ResponseMetadata': {'RequestId': 'e4f11055-2472-8e05-84f5-4c122fc0210c', 'HTTPStatusCode': 200, 'HTTPHeaders': {'x-amzn-requestid': 'e4f11055-2472-8e05-84f5-4c122fc0210c', 'x-amz-id-2': 'sbrD+1KLeY3D11hLjY5rZo1HpWuGH7N5PvTdugUYSLBAGSu/3pcjt0JpMiIVlGTGNwzt2yu6Cnl5K1Byi0A13f6AZFXpVl7y', 'date': 'Fri, 17 Jan 2025 13:24:23 GMT', 'content-type': 'application/x-amz-json-1.1', 'content-length': '110', 'connection': 'keep-alive'}, 'RetryAttempts': 0}}\n"
          ]
        }
      ]
    },
    {
      "cell_type": "markdown",
      "source": [
        "# Consumidor: Notebook para Receber Dados em Streaming\n",
        "\n",
        "Este notebook será utilizado para simular outra instância (ou máquina virtual) que irá consumir os dados enviados pelo notebook **Produtor**. Ele estará continuamente ouvindo os dados enviados pelo **Kinesis Data Streams**.\n",
        "\n",
        "---\n",
        "\n",
        "## Etapas para Configurar o Notebook Consumidor:\n",
        "\n",
        "1. **Criar um novo notebook:**\n",
        "   - Este notebook representará a instância Consumidora.\n",
        "\n",
        "2. **Instalar o boto3:**\n",
        "   - Execute o seguinte comando no notebook:  \n",
        "     ```python\n",
        "     !pip install boto3\n",
        "     ```\n",
        "\n",
        "3. **Inserir o código a seguir no novo notebook:**\n",
        "   ```python\n",
        "   import boto3\n",
        "\n",
        "   cliente = boto3.client(\n",
        "       'kinesis',\n",
        "       aws_access_key_id='Id da chave de acesso',\n",
        "       aws_secret_access_key='chave de acesso',\n",
        "       region_name='regiao do serviço aws'\n",
        "   )\n",
        "\n",
        "   shard = cliente.get_shard_iterator(\n",
        "       StreamName='Nome do fluxo criado no kinesis',\n",
        "       ShardId='Shard ID retornado pela célula do notebook Produtor',\n",
        "       ShardIteratorType='LATEST'\n",
        "   )['ShardIterator']\n",
        "\n",
        "   while shard is not None:\n",
        "       resultado = cliente.get_records(ShardIterator=shard)\n",
        "       registros = resultado['Records']\n",
        "       shard = resultado[\"NextShardIterator\"]\n",
        "\n",
        "       for registro in registros:\n",
        "           print(registro[\"SequenceNumber\"])\n",
        "           print(registro[\"ApproximateArrivalTimestamp\"])\n",
        "           print(registro[\"PartitionKey\"])\n",
        "           print(registro[\"Data\"])\n",
        "      ```\n",
        "---\n",
        "\n",
        "## Observações:\n",
        "\n",
        "### Manter o notebook rodando:\n",
        "- A célula **não irá parar automaticamente**, a menos que você:\n",
        "  - Encerre manualmente o processo (via **Keyboard Interrupt**).\n",
        "  - Ou exclua o fluxo de dados no **AWS Kinesis**.\n",
        "\n",
        "### Teste com o Produtor:\n",
        "- Após configurar e executar o código no notebook **Consumidor** (não interrompa a célula), volte para o notebook **Produtor** e:\n",
        "  1. Modifique os registros (como **ID** ou **Nome**).\n",
        "  2. Execute o notebook Produtor a cada modificação.\n",
        "  3. Verifique se os resultados aparecem corretamente no notebook Consumidor.\n",
        "\n",
        "### Resultados no Consumidor:\n",
        "- O notebook Consumidor imprimirá as seguintes informações para cada registro recebido:\n",
        "  - **SequenceNumber**: Número sequencial do registro.\n",
        "  - **ApproximateArrivalTimestamp**: Estampa de tempo aproximada da chegada do registro.\n",
        "  - **PartitionKey**: Chave de partição utilizada.\n",
        "  - **Data**: Dados enviados pelo Produtor.\n",
        "\n",
        "  \n",
        "  # O NOTEBOOK CONSUMIDOR TAMBEM ESTÁ DISPONÍVEL PARA ACESSO COM INSTRUÇÕES\n"
      ],
      "metadata": {
        "id": "iI_o_XGVg_zn"
      }
    }
  ]
}