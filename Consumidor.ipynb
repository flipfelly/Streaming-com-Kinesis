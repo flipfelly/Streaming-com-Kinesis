{
  "nbformat": 4,
  "nbformat_minor": 0,
  "metadata": {
    "colab": {
      "provenance": [],
      "authorship_tag": "ABX9TyO9RFugki19576J7AsoN/sM",
      "include_colab_link": true
    },
    "kernelspec": {
      "name": "python3",
      "display_name": "Python 3"
    },
    "language_info": {
      "name": "python"
    }
  },
  "cells": [
    {
      "cell_type": "markdown",
      "metadata": {
        "id": "view-in-github",
        "colab_type": "text"
      },
      "source": [
        "<a href=\"https://colab.research.google.com/github/flipfelly/Streaming-com-Kinesis/blob/main/Consumidor.ipynb\" target=\"_parent\"><img src=\"https://colab.research.google.com/assets/colab-badge.svg\" alt=\"Open In Colab\"/></a>"
      ]
    },
    {
      "cell_type": "markdown",
      "source": [
        "# Notebook Consumidor\n",
        "\n",
        "Aqui vamos criar um consumidor que ficará \"escutando\" os dados em streaming criados pelo **produtor**. A célula continuará rodando, recebendo dados, até que seja interrompida manualmente ou que o fluxo de dados seja excluído da AWS.\n",
        "\n",
        "---\n",
        "\n",
        "### **Pré-requisito:**\n",
        "- É esperado que você já tenha lido o **notebook Produtor** e executado as etapas nele.\n",
        "\n",
        "---\n",
        "\n",
        "### **Como conseguir o ShardID:**\n",
        "\n",
        "1. O **shardID** é impresso no **notebook Produtor**.\n",
        "2. Para obtê-lo, execute a célula principal do notebook **Produtor**.\n",
        "3. O **shardID** será impresso em um formato como este:\n",
        "   - Exemplo de print do notebook Produtor:\n",
        "     ```\n",
        "     {'ShardId': 'shardId-000000000002', ...}\n",
        "     ```\n",
        "4. **Copie apenas** a parte destacada: `shardId-000000000002`.\n",
        "5. **Importante**: Não utilize o shardID do exemplo, mas sim o **resultado da sua aplicação**.\n",
        "\n",
        "---\n",
        "### ⚠️ **Atenção**:\n",
        "- As **credenciais de acesso**, a **StreamName** e a **`region_name`** estão explicadas no **notebook Produtor**. Certifique-se de seguir essas instruções para garantir o acesso correto ao Kinesis.\n"
      ],
      "metadata": {
        "id": "bBe2kgOGnfcr"
      }
    },
    {
      "cell_type": "code",
      "execution_count": 2,
      "metadata": {
        "colab": {
          "base_uri": "https://localhost:8080/"
        },
        "collapsed": true,
        "id": "fKutfgrVZkKu",
        "outputId": "79d02b6e-824a-48b1-85f4-1b38d875df1a"
      },
      "outputs": [
        {
          "output_type": "stream",
          "name": "stdout",
          "text": [
            "Collecting boto3\n",
            "  Downloading boto3-1.36.1-py3-none-any.whl.metadata (6.6 kB)\n",
            "Collecting botocore<1.37.0,>=1.36.1 (from boto3)\n",
            "  Downloading botocore-1.36.1-py3-none-any.whl.metadata (5.7 kB)\n",
            "Collecting jmespath<2.0.0,>=0.7.1 (from boto3)\n",
            "  Downloading jmespath-1.0.1-py3-none-any.whl.metadata (7.6 kB)\n",
            "Collecting s3transfer<0.12.0,>=0.11.0 (from boto3)\n",
            "  Downloading s3transfer-0.11.1-py3-none-any.whl.metadata (1.7 kB)\n",
            "Requirement already satisfied: python-dateutil<3.0.0,>=2.1 in /usr/local/lib/python3.11/dist-packages (from botocore<1.37.0,>=1.36.1->boto3) (2.8.2)\n",
            "Requirement already satisfied: urllib3!=2.2.0,<3,>=1.25.4 in /usr/local/lib/python3.11/dist-packages (from botocore<1.37.0,>=1.36.1->boto3) (2.3.0)\n",
            "Requirement already satisfied: six>=1.5 in /usr/local/lib/python3.11/dist-packages (from python-dateutil<3.0.0,>=2.1->botocore<1.37.0,>=1.36.1->boto3) (1.17.0)\n",
            "Downloading boto3-1.36.1-py3-none-any.whl (139 kB)\n",
            "\u001b[2K   \u001b[90m━━━━━━━━━━━━━━━━━━━━━━━━━━━━━━━━━━━━━━━━\u001b[0m \u001b[32m139.2/139.2 kB\u001b[0m \u001b[31m4.0 MB/s\u001b[0m eta \u001b[36m0:00:00\u001b[0m\n",
            "\u001b[?25hDownloading botocore-1.36.1-py3-none-any.whl (13.3 MB)\n",
            "\u001b[2K   \u001b[90m━━━━━━━━━━━━━━━━━━━━━━━━━━━━━━━━━━━━━━━━\u001b[0m \u001b[32m13.3/13.3 MB\u001b[0m \u001b[31m62.0 MB/s\u001b[0m eta \u001b[36m0:00:00\u001b[0m\n",
            "\u001b[?25hDownloading jmespath-1.0.1-py3-none-any.whl (20 kB)\n",
            "Downloading s3transfer-0.11.1-py3-none-any.whl (84 kB)\n",
            "\u001b[2K   \u001b[90m━━━━━━━━━━━━━━━━━━━━━━━━━━━━━━━━━━━━━━━━\u001b[0m \u001b[32m84.1/84.1 kB\u001b[0m \u001b[31m5.9 MB/s\u001b[0m eta \u001b[36m0:00:00\u001b[0m\n",
            "\u001b[?25hInstalling collected packages: jmespath, botocore, s3transfer, boto3\n",
            "Successfully installed boto3-1.36.1 botocore-1.36.1 jmespath-1.0.1 s3transfer-0.11.1\n"
          ]
        }
      ],
      "source": [
        "!pip install boto3"
      ]
    },
    {
      "cell_type": "markdown",
      "source": [
        "\n",
        "# Explicação do Código\n",
        "\n",
        "---\n",
        "\n",
        "### 1. **Obtendo o Shard Iterator**\n",
        "\n",
        "O **`get_shard_iterator`** é utilizado para obter o iterator (ponteiro) que permite ler os dados de um **shard** específico dentro de um fluxo. Ele recebe:\n",
        "- **StreamName**: Nome do fluxo Kinesis.\n",
        "- **ShardId**: ID do shard do qual os dados serão lidos.\n",
        "- **ShardIteratorType**: Define onde a leitura começará, neste caso, a partir do dado mais recente (**LATEST**).\n",
        "\n",
        "O retorno é o **ShardIterator**, que é utilizado para acessar os registros subsequentes.\n",
        "\n",
        "---\n",
        "\n",
        "### 2. **Loop de Leitura dos Dados**\n",
        "\n",
        "A leitura dos dados ocorre dentro de um **loop** contínuo, que verifica se há mais dados a serem lidos (enquanto o **shard** não for `None`). A cada iteração:\n",
        "- **`get_records(ShardIterator=shard)`**: Obtém os registros a partir do **shardIterator** atual.\n",
        "- **`resultado['Records']`**: Extrai os registros dos dados recebidos.\n",
        "- **`NextShardIterator`**: Obtém o próximo **shardIterator** para continuar a leitura nos registros seguintes.\n",
        "\n",
        "---\n",
        "\n",
        "### 3. **Exibição dos Registros**\n",
        "\n",
        "Cada registro recebido é printado dentro de um **loop**:\n",
        "- **`SequenceNumber`**: Exibe o número sequencial do registro.\n",
        "- **`ApproximateArrivalTimestamp`**: Exibe o timestamp aproximado de chegada do registro ao Kinesis.\n",
        "- **`PartitionKey`**: Exibe a chave de partição associada ao registro, que pode ser usada para identificar a origem dos dados.\n",
        "- **`Data`**: Exibe os dados reais enviados para o fluxo, geralmente em formato binário, que podem ser processados conforme necessário.\n",
        "\n",
        "---\n",
        "## ⚠️ **Aviso Importante:**\n",
        "\n",
        "**Não se assuste** com a mensagem de erro registrada neste notebook. Ela é gerada porque precisamos **interromper a célula manualmente**.\n",
        "\n",
        "A mensagem **KeyboardInterrupt** é apenas uma indicação de que o processo foi interrompido de forma controlada.\n",
        "\n",
        "---\n"
      ],
      "metadata": {
        "id": "UCyacoYqpvA7"
      }
    },
    {
      "cell_type": "code",
      "source": [
        "import boto3\n",
        "\n",
        "cliente = boto3.client('kinesis', aws_access_key_id = 'id da chave de acesso', aws_secret_access_key = \"chave de acesso\", region_name='codigo da região')\n",
        "\n",
        "shard = cliente.get_shard_iterator(StreamName='Nome do stream', ShardId='shardId-000000000002 - Colocar id gerado', ShardIteratorType='LATEST')['ShardIterator']\n",
        "\n",
        "while shard is not None:\n",
        "    resultado = cliente.get_records(ShardIterator=shard)\n",
        "    registros = resultado['Records']\n",
        "    shard = resultado[\"NextShardIterator\"]\n",
        "\n",
        "    for registro in registros:\n",
        "      print(registro[\"SequenceNumber\"])\n",
        "      print(registro[\"ApproximateArrivalTimestamp\"])\n",
        "      print(registro[\"PartitionKey\"])\n",
        "      print(registro[\"Data\"])"
      ],
      "metadata": {
        "colab": {
          "base_uri": "https://localhost:8080/",
          "height": 565
        },
        "id": "PO7oAfyCbUQR",
        "outputId": "7fcd2fe3-5957-4443-a0cf-d90ef84e4541"
      },
      "execution_count": 5,
      "outputs": [
        {
          "output_type": "stream",
          "name": "stdout",
          "text": [
            "49659682377937857660418786146689697367636689047640866850\n",
            "2025-01-17 13:23:48.798000+00:00\n",
            "02\n",
            "b'{\"idvendedor\": \"999\", \"nome\": \"Nelsol\"}'\n",
            "49659682377937857660418786226868075576118126340734976034\n",
            "2025-01-17 13:24:06.081000+00:00\n",
            "02\n",
            "b'{\"idvendedor\": \"123\", \"nome\": \"Marina\"}'\n",
            "49659682377937857660418786304854671273638241077525741602\n",
            "2025-01-17 13:24:23.760000+00:00\n",
            "02\n",
            "b'{\"idvendedor\": \"231\", \"nome\": \"Pedro\"}'\n"
          ]
        },
        {
          "output_type": "error",
          "ename": "KeyboardInterrupt",
          "evalue": "",
          "traceback": [
            "\u001b[0;31m---------------------------------------------------------------------------\u001b[0m",
            "\u001b[0;31mKeyboardInterrupt\u001b[0m                         Traceback (most recent call last)",
            "\u001b[0;32m<ipython-input-5-5ab472044188>\u001b[0m in \u001b[0;36m<cell line: 0>\u001b[0;34m()\u001b[0m\n\u001b[1;32m      6\u001b[0m \u001b[0;34m\u001b[0m\u001b[0m\n\u001b[1;32m      7\u001b[0m \u001b[0;32mwhile\u001b[0m \u001b[0mshard\u001b[0m \u001b[0;32mis\u001b[0m \u001b[0;32mnot\u001b[0m \u001b[0;32mNone\u001b[0m\u001b[0;34m:\u001b[0m\u001b[0;34m\u001b[0m\u001b[0;34m\u001b[0m\u001b[0m\n\u001b[0;32m----> 8\u001b[0;31m     \u001b[0mresultado\u001b[0m \u001b[0;34m=\u001b[0m \u001b[0mcliente\u001b[0m\u001b[0;34m.\u001b[0m\u001b[0mget_records\u001b[0m\u001b[0;34m(\u001b[0m\u001b[0mShardIterator\u001b[0m\u001b[0;34m=\u001b[0m\u001b[0mshard\u001b[0m\u001b[0;34m)\u001b[0m\u001b[0;34m\u001b[0m\u001b[0;34m\u001b[0m\u001b[0m\n\u001b[0m\u001b[1;32m      9\u001b[0m     \u001b[0mregistros\u001b[0m \u001b[0;34m=\u001b[0m \u001b[0mresultado\u001b[0m\u001b[0;34m[\u001b[0m\u001b[0;34m'Records'\u001b[0m\u001b[0;34m]\u001b[0m\u001b[0;34m\u001b[0m\u001b[0;34m\u001b[0m\u001b[0m\n\u001b[1;32m     10\u001b[0m     \u001b[0mshard\u001b[0m \u001b[0;34m=\u001b[0m \u001b[0mresultado\u001b[0m\u001b[0;34m[\u001b[0m\u001b[0;34m\"NextShardIterator\"\u001b[0m\u001b[0;34m]\u001b[0m\u001b[0;34m\u001b[0m\u001b[0;34m\u001b[0m\u001b[0m\n",
            "\u001b[0;32m/usr/local/lib/python3.11/dist-packages/botocore/client.py\u001b[0m in \u001b[0;36m_api_call\u001b[0;34m(self, *args, **kwargs)\u001b[0m\n\u001b[1;32m    567\u001b[0m                 )\n\u001b[1;32m    568\u001b[0m             \u001b[0;31m# The \"self\" in this scope is referring to the BaseClient.\u001b[0m\u001b[0;34m\u001b[0m\u001b[0;34m\u001b[0m\u001b[0m\n\u001b[0;32m--> 569\u001b[0;31m             \u001b[0;32mreturn\u001b[0m \u001b[0mself\u001b[0m\u001b[0;34m.\u001b[0m\u001b[0m_make_api_call\u001b[0m\u001b[0;34m(\u001b[0m\u001b[0moperation_name\u001b[0m\u001b[0;34m,\u001b[0m \u001b[0mkwargs\u001b[0m\u001b[0;34m)\u001b[0m\u001b[0;34m\u001b[0m\u001b[0;34m\u001b[0m\u001b[0m\n\u001b[0m\u001b[1;32m    570\u001b[0m \u001b[0;34m\u001b[0m\u001b[0m\n\u001b[1;32m    571\u001b[0m         \u001b[0m_api_call\u001b[0m\u001b[0;34m.\u001b[0m\u001b[0m__name__\u001b[0m \u001b[0;34m=\u001b[0m \u001b[0mstr\u001b[0m\u001b[0;34m(\u001b[0m\u001b[0mpy_operation_name\u001b[0m\u001b[0;34m)\u001b[0m\u001b[0;34m\u001b[0m\u001b[0;34m\u001b[0m\u001b[0m\n",
            "\u001b[0;32m/usr/local/lib/python3.11/dist-packages/botocore/client.py\u001b[0m in \u001b[0;36m_make_api_call\u001b[0;34m(self, operation_name, api_params)\u001b[0m\n\u001b[1;32m   1003\u001b[0m             )\n\u001b[1;32m   1004\u001b[0m             \u001b[0mapply_request_checksum\u001b[0m\u001b[0;34m(\u001b[0m\u001b[0mrequest_dict\u001b[0m\u001b[0;34m)\u001b[0m\u001b[0;34m\u001b[0m\u001b[0;34m\u001b[0m\u001b[0m\n\u001b[0;32m-> 1005\u001b[0;31m             http, parsed_response = self._make_request(\n\u001b[0m\u001b[1;32m   1006\u001b[0m                 \u001b[0moperation_model\u001b[0m\u001b[0;34m,\u001b[0m \u001b[0mrequest_dict\u001b[0m\u001b[0;34m,\u001b[0m \u001b[0mrequest_context\u001b[0m\u001b[0;34m\u001b[0m\u001b[0;34m\u001b[0m\u001b[0m\n\u001b[1;32m   1007\u001b[0m             )\n",
            "\u001b[0;32m/usr/local/lib/python3.11/dist-packages/botocore/client.py\u001b[0m in \u001b[0;36m_make_request\u001b[0;34m(self, operation_model, request_dict, request_context)\u001b[0m\n\u001b[1;32m   1027\u001b[0m     \u001b[0;32mdef\u001b[0m \u001b[0m_make_request\u001b[0m\u001b[0;34m(\u001b[0m\u001b[0mself\u001b[0m\u001b[0;34m,\u001b[0m \u001b[0moperation_model\u001b[0m\u001b[0;34m,\u001b[0m \u001b[0mrequest_dict\u001b[0m\u001b[0;34m,\u001b[0m \u001b[0mrequest_context\u001b[0m\u001b[0;34m)\u001b[0m\u001b[0;34m:\u001b[0m\u001b[0;34m\u001b[0m\u001b[0;34m\u001b[0m\u001b[0m\n\u001b[1;32m   1028\u001b[0m         \u001b[0;32mtry\u001b[0m\u001b[0;34m:\u001b[0m\u001b[0;34m\u001b[0m\u001b[0;34m\u001b[0m\u001b[0m\n\u001b[0;32m-> 1029\u001b[0;31m             \u001b[0;32mreturn\u001b[0m \u001b[0mself\u001b[0m\u001b[0;34m.\u001b[0m\u001b[0m_endpoint\u001b[0m\u001b[0;34m.\u001b[0m\u001b[0mmake_request\u001b[0m\u001b[0;34m(\u001b[0m\u001b[0moperation_model\u001b[0m\u001b[0;34m,\u001b[0m \u001b[0mrequest_dict\u001b[0m\u001b[0;34m)\u001b[0m\u001b[0;34m\u001b[0m\u001b[0;34m\u001b[0m\u001b[0m\n\u001b[0m\u001b[1;32m   1030\u001b[0m         \u001b[0;32mexcept\u001b[0m \u001b[0mException\u001b[0m \u001b[0;32mas\u001b[0m \u001b[0me\u001b[0m\u001b[0;34m:\u001b[0m\u001b[0;34m\u001b[0m\u001b[0;34m\u001b[0m\u001b[0m\n\u001b[1;32m   1031\u001b[0m             self.meta.events.emit(\n",
            "\u001b[0;32m/usr/local/lib/python3.11/dist-packages/botocore/endpoint.py\u001b[0m in \u001b[0;36mmake_request\u001b[0;34m(self, operation_model, request_dict)\u001b[0m\n\u001b[1;32m    117\u001b[0m             \u001b[0mrequest_dict\u001b[0m\u001b[0;34m,\u001b[0m\u001b[0;34m\u001b[0m\u001b[0;34m\u001b[0m\u001b[0m\n\u001b[1;32m    118\u001b[0m         )\n\u001b[0;32m--> 119\u001b[0;31m         \u001b[0;32mreturn\u001b[0m \u001b[0mself\u001b[0m\u001b[0;34m.\u001b[0m\u001b[0m_send_request\u001b[0m\u001b[0;34m(\u001b[0m\u001b[0mrequest_dict\u001b[0m\u001b[0;34m,\u001b[0m \u001b[0moperation_model\u001b[0m\u001b[0;34m)\u001b[0m\u001b[0;34m\u001b[0m\u001b[0;34m\u001b[0m\u001b[0m\n\u001b[0m\u001b[1;32m    120\u001b[0m \u001b[0;34m\u001b[0m\u001b[0m\n\u001b[1;32m    121\u001b[0m     \u001b[0;32mdef\u001b[0m \u001b[0mcreate_request\u001b[0m\u001b[0;34m(\u001b[0m\u001b[0mself\u001b[0m\u001b[0;34m,\u001b[0m \u001b[0mparams\u001b[0m\u001b[0;34m,\u001b[0m \u001b[0moperation_model\u001b[0m\u001b[0;34m=\u001b[0m\u001b[0;32mNone\u001b[0m\u001b[0;34m)\u001b[0m\u001b[0;34m:\u001b[0m\u001b[0;34m\u001b[0m\u001b[0;34m\u001b[0m\u001b[0m\n",
            "\u001b[0;32m/usr/local/lib/python3.11/dist-packages/botocore/endpoint.py\u001b[0m in \u001b[0;36m_send_request\u001b[0;34m(self, request_dict, operation_model)\u001b[0m\n\u001b[1;32m    198\u001b[0m             \u001b[0mrequest\u001b[0m\u001b[0;34m,\u001b[0m \u001b[0moperation_model\u001b[0m\u001b[0;34m,\u001b[0m \u001b[0mcontext\u001b[0m\u001b[0;34m\u001b[0m\u001b[0;34m\u001b[0m\u001b[0m\n\u001b[1;32m    199\u001b[0m         )\n\u001b[0;32m--> 200\u001b[0;31m         while self._needs_retry(\n\u001b[0m\u001b[1;32m    201\u001b[0m             \u001b[0mattempts\u001b[0m\u001b[0;34m,\u001b[0m\u001b[0;34m\u001b[0m\u001b[0;34m\u001b[0m\u001b[0m\n\u001b[1;32m    202\u001b[0m             \u001b[0moperation_model\u001b[0m\u001b[0;34m,\u001b[0m\u001b[0;34m\u001b[0m\u001b[0;34m\u001b[0m\u001b[0m\n",
            "\u001b[0;32m/usr/local/lib/python3.11/dist-packages/botocore/endpoint.py\u001b[0m in \u001b[0;36m_needs_retry\u001b[0;34m(self, attempts, operation_model, request_dict, response, caught_exception)\u001b[0m\n\u001b[1;32m    377\u001b[0m                 \u001b[0mhandler_response\u001b[0m\u001b[0;34m,\u001b[0m\u001b[0;34m\u001b[0m\u001b[0;34m\u001b[0m\u001b[0m\n\u001b[1;32m    378\u001b[0m             )\n\u001b[0;32m--> 379\u001b[0;31m             \u001b[0mtime\u001b[0m\u001b[0;34m.\u001b[0m\u001b[0msleep\u001b[0m\u001b[0;34m(\u001b[0m\u001b[0mhandler_response\u001b[0m\u001b[0;34m)\u001b[0m\u001b[0;34m\u001b[0m\u001b[0;34m\u001b[0m\u001b[0m\n\u001b[0m\u001b[1;32m    380\u001b[0m             \u001b[0;32mreturn\u001b[0m \u001b[0;32mTrue\u001b[0m\u001b[0;34m\u001b[0m\u001b[0;34m\u001b[0m\u001b[0m\n\u001b[1;32m    381\u001b[0m \u001b[0;34m\u001b[0m\u001b[0m\n",
            "\u001b[0;31mKeyboardInterrupt\u001b[0m: "
          ]
        }
      ]
    }
  ]
}